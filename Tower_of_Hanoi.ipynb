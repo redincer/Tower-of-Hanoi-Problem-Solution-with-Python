{
 "cells": [
  {
   "cell_type": "code",
   "execution_count": 4,
   "metadata": {},
   "outputs": [],
   "source": [
    "def printHanoi(hanoiTowers):\n",
    "    global num_of_step\n",
    "    num_of_step+=1\n",
    "    for disk in range(num_of_disk,0,-1):\n",
    "        for tower in hanoiTowers:\n",
    "            if len(tower) >= disk:\n",
    "                print(tower[disk - 1], end=' ')      \n",
    "            else:                                 \n",
    "                print('*', end=' ')\n",
    "        print()\n",
    "    print()"
   ]
  },
  {
   "cell_type": "code",
   "execution_count": 5,
   "metadata": {},
   "outputs": [],
   "source": [
    "def hanoi(hanoiTowers, tower1, tower2, swap,d):\n",
    "    if d==0:                                                                   \n",
    "        return\n",
    "    hanoi(hanoiTowers,  tower1, swap, tower2,(d - 1))\n",
    "    hanoiDisk = hanoiTowers[tower1].pop()        \n",
    "    hanoiTowers[tower2].append(hanoiDisk)                                          \n",
    "    printHanoi(hanoiTowers)\n",
    "    hanoi(hanoiTowers, swap, tower2, tower1,(d - 1))"
   ]
  },
  {
   "cell_type": "code",
   "execution_count": 6,
   "metadata": {},
   "outputs": [
    {
     "name": "stdout",
     "output_type": "stream",
     "text": [
      "Enter the number of disks: 3\n",
      "3 * * \n",
      "2 * * \n",
      "1 * * \n",
      "\n",
      "* * * \n",
      "2 * * \n",
      "1 * 3 \n",
      "\n",
      "* * * \n",
      "* * * \n",
      "1 2 3 \n",
      "\n",
      "* * * \n",
      "* 3 * \n",
      "1 2 * \n",
      "\n",
      "* * * \n",
      "* 3 * \n",
      "* 2 1 \n",
      "\n",
      "* * * \n",
      "* * * \n",
      "3 2 1 \n",
      "\n",
      "* * * \n",
      "* * 2 \n",
      "3 * 1 \n",
      "\n",
      "* * 3 \n",
      "* * 2 \n",
      "* * 1 \n",
      "\n",
      "The number of steps:  8\n"
     ]
    }
   ],
   "source": [
    "if __name__ == '__main__':\n",
    "    num_of_disk = int(input(\"Enter the number of disks: \"))  \n",
    "    tower = list(range(1, int(num_of_disk) + 1))   \n",
    "    hanoiTowers = [tower, [],[]]   \n",
    "    num_of_step=0\n",
    "    printHanoi(hanoiTowers)\n",
    "    hanoi(hanoiTowers, 0, 2, 1,num_of_disk)\n",
    "    print(\"The number of steps: \",num_of_step)"
   ]
  },
  {
   "cell_type": "code",
   "execution_count": null,
   "metadata": {},
   "outputs": [],
   "source": []
  }
 ],
 "metadata": {
  "kernelspec": {
   "display_name": "Python 3",
   "language": "python",
   "name": "python3"
  },
  "language_info": {
   "codemirror_mode": {
    "name": "ipython",
    "version": 3
   },
   "file_extension": ".py",
   "mimetype": "text/x-python",
   "name": "python",
   "nbconvert_exporter": "python",
   "pygments_lexer": "ipython3",
   "version": "3.8.3"
  }
 },
 "nbformat": 4,
 "nbformat_minor": 5
}
